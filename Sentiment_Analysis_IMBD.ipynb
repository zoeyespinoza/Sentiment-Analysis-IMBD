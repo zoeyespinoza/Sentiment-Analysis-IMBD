{
 "cells": [
  {
   "cell_type": "code",
   "execution_count": 5,
   "metadata": {},
   "outputs": [],
   "source": [
    "import pandas as pd\n",
    "from nltk.corpus import stopwords as nltk_stopwords\n",
    "from sklearn.feature_extraction.text import TfidfVectorizer\n",
    "from sklearn.metrics import accuracy_score, f1_score, roc_auc_score\n",
    "from sklearn.linear_model import LogisticRegression\n",
    "\n",
    "train_data = pd.read_csv('imdb_reviews_small_lemm_train.tsv', sep='\\t')\n",
    "test_data = pd.read_csv('imdb_reviews_small_lemm_test.tsv', sep='\\t')\n",
    "\n",
    "train_corpus = train_data['review_lemm']\n",
    "stop_words = set(nltk_stopwords.words('english'))\n",
    "\n",
    "count_tf_idf = TfidfVectorizer(stop_words=list(stop_words))\n",
    "tf_idf = count_tf_idf.fit_transform(train_corpus)\n",
    "\n",
    "features_train = tf_idf\n",
    "target_train = train_data['pos']\n",
    "\n",
    "test_corpus = test_data['review_lemm']\n",
    "features_test = count_tf_idf.transform(test_corpus)\n",
    "\n",
    "\n",
    "model = LogisticRegression()\n",
    "model.fit(features_train, target_train)\n",
    "pred_test = model.predict(features_test)\n",
    "\n",
    "submission = pd.DataFrame({'pos':pred_test})\n",
    "submission.to_csv('predictions')"
   ]
  },
  {
   "cell_type": "markdown",
   "metadata": {},
   "source": []
  }
 ],
 "metadata": {
  "kernelspec": {
   "display_name": "Python 3",
   "language": "python",
   "name": "python3"
  },
  "language_info": {
   "codemirror_mode": {
    "name": "ipython",
    "version": 3
   },
   "file_extension": ".py",
   "mimetype": "text/x-python",
   "name": "python",
   "nbconvert_exporter": "python",
   "pygments_lexer": "ipython3",
   "version": "3.10.9"
  },
  "orig_nbformat": 4
 },
 "nbformat": 4,
 "nbformat_minor": 2
}
